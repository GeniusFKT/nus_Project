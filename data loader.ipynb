{
 "cells": [
  {
   "cell_type": "code",
   "execution_count": 1,
   "metadata": {
    "collapsed": true
   },
   "outputs": [],
   "source": [
    "import numpy as np\n",
    "import pandas as pd\n",
    "import matplotlib.pyplot as plt\n",
    "%matplotlib inline"
   ]
  },
  {
   "cell_type": "code",
   "execution_count": 68,
   "metadata": {
    "scrolled": true
   },
   "outputs": [
    {
     "data": {
      "text/html": [
       "<div>\n",
       "<style>\n",
       "    .dataframe thead tr:only-child th {\n",
       "        text-align: right;\n",
       "    }\n",
       "\n",
       "    .dataframe thead th {\n",
       "        text-align: left;\n",
       "    }\n",
       "\n",
       "    .dataframe tbody tr th {\n",
       "        vertical-align: top;\n",
       "    }\n",
       "</style>\n",
       "<table border=\"1\" class=\"dataframe\">\n",
       "  <thead>\n",
       "    <tr style=\"text-align: right;\">\n",
       "      <th></th>\n",
       "      <th>stkcd</th>\n",
       "      <th>accper</th>\n",
       "      <th>a001000000</th>\n",
       "      <th>a002000000</th>\n",
       "      <th>a003000000</th>\n",
       "      <th>a004000000</th>\n",
       "      <th>b001100000</th>\n",
       "      <th>b001200000</th>\n",
       "      <th>b001302000</th>\n",
       "      <th>b001300000</th>\n",
       "      <th>...</th>\n",
       "      <th>c003000000</th>\n",
       "      <th>c004000000</th>\n",
       "      <th>c005000000</th>\n",
       "      <th>c005001000</th>\n",
       "      <th>c006000000</th>\n",
       "      <th>d000101000</th>\n",
       "      <th>d000100000</th>\n",
       "      <th>d000204000</th>\n",
       "      <th>d000205000</th>\n",
       "      <th>d000200000</th>\n",
       "    </tr>\n",
       "  </thead>\n",
       "  <tbody>\n",
       "    <tr>\n",
       "      <th>0</th>\n",
       "      <td>1</td>\n",
       "      <td>1998/12/31</td>\n",
       "      <td>3.939986e+10</td>\n",
       "      <td>3.572350e+10</td>\n",
       "      <td>3.676363e+09</td>\n",
       "      <td>3.939986e+10</td>\n",
       "      <td>1.758112e+09</td>\n",
       "      <td>1.117254e+09</td>\n",
       "      <td>184826928.9</td>\n",
       "      <td>850582907.6</td>\n",
       "      <td>...</td>\n",
       "      <td>-1.079425e+08</td>\n",
       "      <td>45131.71</td>\n",
       "      <td>1.158301e+08</td>\n",
       "      <td>0.0</td>\n",
       "      <td>0.0</td>\n",
       "      <td>764240100.0</td>\n",
       "      <td>2.291098e+09</td>\n",
       "      <td>5.164142e+08</td>\n",
       "      <td>4.005841e+08</td>\n",
       "      <td>1.158301e+08</td>\n",
       "    </tr>\n",
       "    <tr>\n",
       "      <th>1</th>\n",
       "      <td>1</td>\n",
       "      <td>1999/12/31</td>\n",
       "      <td>4.586897e+10</td>\n",
       "      <td>4.296814e+10</td>\n",
       "      <td>2.900831e+09</td>\n",
       "      <td>4.586897e+10</td>\n",
       "      <td>1.471221e+09</td>\n",
       "      <td>1.119906e+09</td>\n",
       "      <td>233134900.0</td>\n",
       "      <td>606373989.0</td>\n",
       "      <td>...</td>\n",
       "      <td>-5.941585e+08</td>\n",
       "      <td>99961.00</td>\n",
       "      <td>2.596769e+09</td>\n",
       "      <td>0.0</td>\n",
       "      <td>0.0</td>\n",
       "      <td>555191092.0</td>\n",
       "      <td>4.671594e+09</td>\n",
       "      <td>6.326918e+09</td>\n",
       "      <td>3.730149e+09</td>\n",
       "      <td>2.596769e+09</td>\n",
       "    </tr>\n",
       "    <tr>\n",
       "      <th>2</th>\n",
       "      <td>1</td>\n",
       "      <td>2000/12/31</td>\n",
       "      <td>6.722750e+10</td>\n",
       "      <td>6.248862e+10</td>\n",
       "      <td>4.738884e+09</td>\n",
       "      <td>6.722750e+10</td>\n",
       "      <td>1.431286e+09</td>\n",
       "      <td>1.259262e+09</td>\n",
       "      <td>356704292.0</td>\n",
       "      <td>553631449.0</td>\n",
       "      <td>...</td>\n",
       "      <td>2.827087e+09</td>\n",
       "      <td>-38698.00</td>\n",
       "      <td>1.317816e+09</td>\n",
       "      <td>0.0</td>\n",
       "      <td>0.0</td>\n",
       "      <td>506551785.0</td>\n",
       "      <td>1.591065e+09</td>\n",
       "      <td>3.818351e+08</td>\n",
       "      <td>8.226618e+08</td>\n",
       "      <td>1.317816e+09</td>\n",
       "    </tr>\n",
       "    <tr>\n",
       "      <th>3</th>\n",
       "      <td>1</td>\n",
       "      <td>2001/12/31</td>\n",
       "      <td>1.200000e+11</td>\n",
       "      <td>1.160000e+11</td>\n",
       "      <td>3.627669e+09</td>\n",
       "      <td>1.200000e+11</td>\n",
       "      <td>2.118441e+09</td>\n",
       "      <td>2.035716e+09</td>\n",
       "      <td>442490935.0</td>\n",
       "      <td>561748514.0</td>\n",
       "      <td>...</td>\n",
       "      <td>-1.410685e+06</td>\n",
       "      <td>-310743.00</td>\n",
       "      <td>8.787071e+09</td>\n",
       "      <td>0.0</td>\n",
       "      <td>0.0</td>\n",
       "      <td>402360428.0</td>\n",
       "      <td>1.464214e+10</td>\n",
       "      <td>0.000000e+00</td>\n",
       "      <td>0.000000e+00</td>\n",
       "      <td>8.787071e+09</td>\n",
       "    </tr>\n",
       "    <tr>\n",
       "      <th>4</th>\n",
       "      <td>1</td>\n",
       "      <td>2002/12/31</td>\n",
       "      <td>1.660000e+11</td>\n",
       "      <td>1.620000e+11</td>\n",
       "      <td>3.768021e+09</td>\n",
       "      <td>1.660000e+11</td>\n",
       "      <td>3.077099e+09</td>\n",
       "      <td>3.120449e+09</td>\n",
       "      <td>631211324.0</td>\n",
       "      <td>649268604.0</td>\n",
       "      <td>...</td>\n",
       "      <td>-2.761487e+08</td>\n",
       "      <td>-1838.00</td>\n",
       "      <td>1.448235e+09</td>\n",
       "      <td>0.0</td>\n",
       "      <td>0.0</td>\n",
       "      <td>432224930.0</td>\n",
       "      <td>8.544036e+09</td>\n",
       "      <td>5.152195e+08</td>\n",
       "      <td>3.793129e+08</td>\n",
       "      <td>1.448235e+09</td>\n",
       "    </tr>\n",
       "  </tbody>\n",
       "</table>\n",
       "<p>5 rows × 29 columns</p>\n",
       "</div>"
      ],
      "text/plain": [
       "   stkcd      accper    a001000000    a002000000    a003000000    a004000000  \\\n",
       "0      1  1998/12/31  3.939986e+10  3.572350e+10  3.676363e+09  3.939986e+10   \n",
       "1      1  1999/12/31  4.586897e+10  4.296814e+10  2.900831e+09  4.586897e+10   \n",
       "2      1  2000/12/31  6.722750e+10  6.248862e+10  4.738884e+09  6.722750e+10   \n",
       "3      1  2001/12/31  1.200000e+11  1.160000e+11  3.627669e+09  1.200000e+11   \n",
       "4      1  2002/12/31  1.660000e+11  1.620000e+11  3.768021e+09  1.660000e+11   \n",
       "\n",
       "     b001100000    b001200000   b001302000   b001300000      ...       \\\n",
       "0  1.758112e+09  1.117254e+09  184826928.9  850582907.6      ...        \n",
       "1  1.471221e+09  1.119906e+09  233134900.0  606373989.0      ...        \n",
       "2  1.431286e+09  1.259262e+09  356704292.0  553631449.0      ...        \n",
       "3  2.118441e+09  2.035716e+09  442490935.0  561748514.0      ...        \n",
       "4  3.077099e+09  3.120449e+09  631211324.0  649268604.0      ...        \n",
       "\n",
       "     c003000000  c004000000    c005000000  c005001000  c006000000  \\\n",
       "0 -1.079425e+08    45131.71  1.158301e+08         0.0         0.0   \n",
       "1 -5.941585e+08    99961.00  2.596769e+09         0.0         0.0   \n",
       "2  2.827087e+09   -38698.00  1.317816e+09         0.0         0.0   \n",
       "3 -1.410685e+06  -310743.00  8.787071e+09         0.0         0.0   \n",
       "4 -2.761487e+08    -1838.00  1.448235e+09         0.0         0.0   \n",
       "\n",
       "    d000101000    d000100000    d000204000    d000205000    d000200000  \n",
       "0  764240100.0  2.291098e+09  5.164142e+08  4.005841e+08  1.158301e+08  \n",
       "1  555191092.0  4.671594e+09  6.326918e+09  3.730149e+09  2.596769e+09  \n",
       "2  506551785.0  1.591065e+09  3.818351e+08  8.226618e+08  1.317816e+09  \n",
       "3  402360428.0  1.464214e+10  0.000000e+00  0.000000e+00  8.787071e+09  \n",
       "4  432224930.0  8.544036e+09  5.152195e+08  3.793129e+08  1.448235e+09  \n",
       "\n",
       "[5 rows x 29 columns]"
      ]
     },
     "execution_count": 68,
     "metadata": {},
     "output_type": "execute_result"
    }
   ],
   "source": [
    "df = pd.read_csv('data/level1.csv')\n",
    "df=df.drop(['Unnamed: 0','typrep'],axis=1)\n",
    "df=df.fillna(0)\n",
    "df.head()"
   ]
  },
  {
   "cell_type": "markdown",
   "metadata": {},
   "source": [
    "# 利润总额频数分布"
   ]
  },
  {
   "cell_type": "code",
   "execution_count": 70,
   "metadata": {},
   "outputs": [
    {
     "name": "stdout",
     "output_type": "stream",
     "text": [
      "372000000000.0\n",
      "-17461729524.0\n",
      "861842112.08115\n",
      "8965535479.062717\n"
     ]
    }
   ],
   "source": [
    "print(df['b001000000'].max())\n",
    "print(df['b001000000'].min())\n",
    "print(df['b001000000'].mean())\n",
    "print(df['b001000000'].std())"
   ]
  },
  {
   "cell_type": "code",
   "execution_count": 71,
   "metadata": {},
   "outputs": [
    {
     "data": {
      "text/plain": [
       "<matplotlib.axes._subplots.AxesSubplot at 0x1c697bc1dd8>"
      ]
     },
     "execution_count": 71,
     "metadata": {},
     "output_type": "execute_result"
    },
    {
     "data": {
      "image/png": "[encoded data removed]",
      "text/plain": [
       "<matplotlib.figure.Figure at 0x1c697bc1240>"
      ]
     },
     "metadata": {},
     "output_type": "display_data"
    }
   ],
   "source": [
    "df['b001000000'].hist(bins=range(-300000000,4000000000,100000000))"
   ]
  },
  {
   "cell_type": "markdown",
   "metadata": {},
   "source": [
    "# Normalize"
   ]
  },
  {
   "cell_type": "code",
   "execution_count": 72,
   "metadata": {},
   "outputs": [
    {
     "name": "stdout",
     "output_type": "stream",
     "text": [
      "27\n"
     ]
    }
   ],
   "source": [
    "cols = df.columns\n",
    "normlist=[]\n",
    "for col in cols:\n",
    "    # print(df[col].dtype)\n",
    "    if str(df[col].dtype) == 'float64':\n",
    "        normlist.append(col)\n",
    "print(len(normlist))"
   ]
  },
  {
   "cell_type": "code",
   "execution_count": 73,
   "metadata": {},
   "outputs": [],
   "source": [
    "mean=[]\n",
    "std=[]\n",
    "for i,name in enumerate(normlist):\n",
    "    mean.append(df[name].mean())\n",
    "    std.append(df[name].std())\n",
    "    df[name] = (df[name]-df[name].mean())/(df[name].std())"
   ]
  },
  {
   "cell_type": "code",
   "execution_count": 74,
   "metadata": {},
   "outputs": [],
   "source": [
    "max_v=[]\n",
    "min_v=[]\n",
    "for i,name in enumerate(normlist):\n",
    "    max_v.append(df[name].max())\n",
    "    min_v.append(df[name].min())"
   ]
  },
  {
   "cell_type": "markdown",
   "metadata": {},
   "source": [
    "# Normalize 之后利润总额的频数分布"
   ]
  },
  {
   "cell_type": "code",
   "execution_count": 75,
   "metadata": {},
   "outputs": [
    {
     "name": "stdout",
     "output_type": "stream",
     "text": [
      "41.537851467786346\n",
      "-3.0183222066726967\n",
      "-7.968889767631208e-18\n",
      "1.0\n"
     ]
    }
   ],
   "source": [
    "print(df['b001300000'].max())\n",
    "print(df['b001300000'].min())\n",
    "print(df['b001300000'].mean())\n",
    "print(df['b001300000'].std())"
   ]
  },
  {
   "cell_type": "code",
   "execution_count": 76,
   "metadata": {},
   "outputs": [
    {
     "data": {
      "text/plain": [
       "<matplotlib.axes._subplots.AxesSubplot at 0x1c697d3df60>"
      ]
     },
     "execution_count": 76,
     "metadata": {},
     "output_type": "execute_result"
    },
    {
     "data": {
      "image/png": "[encoded data removed]",
      "text/plain": [
       "<matplotlib.figure.Figure at 0x1c697d06a90>"
      ]
     },
     "metadata": {},
     "output_type": "display_data"
    }
   ],
   "source": [
    "df['b001300000'].hist(bins=[i/10 for i in range(-10,20,1)])"
   ]
  },
  {
   "cell_type": "code",
   "execution_count": 77,
   "metadata": {},
   "outputs": [
    {
     "data": {
      "text/html": [
       "<div>\n",
       "<style>\n",
       "    .dataframe thead tr:only-child th {\n",
       "        text-align: right;\n",
       "    }\n",
       "\n",
       "    .dataframe thead th {\n",
       "        text-align: left;\n",
       "    }\n",
       "\n",
       "    .dataframe tbody tr th {\n",
       "        vertical-align: top;\n",
       "    }\n",
       "</style>\n",
       "<table border=\"1\" class=\"dataframe\">\n",
       "  <thead>\n",
       "    <tr style=\"text-align: right;\">\n",
       "      <th></th>\n",
       "      <th>stkcd</th>\n",
       "      <th>accper</th>\n",
       "      <th>a001000000</th>\n",
       "      <th>a002000000</th>\n",
       "      <th>a003000000</th>\n",
       "      <th>a004000000</th>\n",
       "      <th>b001100000</th>\n",
       "      <th>b001200000</th>\n",
       "      <th>b001302000</th>\n",
       "      <th>b001300000</th>\n",
       "      <th>...</th>\n",
       "      <th>c003000000</th>\n",
       "      <th>c004000000</th>\n",
       "      <th>c005000000</th>\n",
       "      <th>c005001000</th>\n",
       "      <th>c006000000</th>\n",
       "      <th>d000101000</th>\n",
       "      <th>d000100000</th>\n",
       "      <th>d000204000</th>\n",
       "      <th>d000205000</th>\n",
       "      <th>d000200000</th>\n",
       "    </tr>\n",
       "  </thead>\n",
       "  <tbody>\n",
       "    <tr>\n",
       "      <th>0</th>\n",
       "      <td>1</td>\n",
       "      <td>1998/12/31</td>\n",
       "      <td>0.001135</td>\n",
       "      <td>0.005961</td>\n",
       "      <td>-0.050913</td>\n",
       "      <td>0.001135</td>\n",
       "      <td>-0.101356</td>\n",
       "      <td>-0.108131</td>\n",
       "      <td>0.008129</td>\n",
       "      <td>0.002082</td>\n",
       "      <td>...</td>\n",
       "      <td>-0.091227</td>\n",
       "      <td>-0.000933</td>\n",
       "      <td>-0.019685</td>\n",
       "      <td>-0.088064</td>\n",
       "      <td>-0.088407</td>\n",
       "      <td>0.013131</td>\n",
       "      <td>0.053278</td>\n",
       "      <td>-0.080285</td>\n",
       "      <td>-0.081301</td>\n",
       "      <td>-0.016921</td>\n",
       "    </tr>\n",
       "    <tr>\n",
       "      <th>1</th>\n",
       "      <td>1</td>\n",
       "      <td>1999/12/31</td>\n",
       "      <td>0.012284</td>\n",
       "      <td>0.019473</td>\n",
       "      <td>-0.066531</td>\n",
       "      <td>0.012284</td>\n",
       "      <td>-0.106274</td>\n",
       "      <td>-0.108082</td>\n",
       "      <td>0.028062</td>\n",
       "      <td>-0.025321</td>\n",
       "      <td>...</td>\n",
       "      <td>-0.174686</td>\n",
       "      <td>-0.000822</td>\n",
       "      <td>0.260917</td>\n",
       "      <td>-0.088064</td>\n",
       "      <td>-0.088407</td>\n",
       "      <td>-0.016732</td>\n",
       "      <td>0.175355</td>\n",
       "      <td>0.243399</td>\n",
       "      <td>0.109454</td>\n",
       "      <td>0.306207</td>\n",
       "    </tr>\n",
       "    <tr>\n",
       "      <th>2</th>\n",
       "      <td>1</td>\n",
       "      <td>2000/12/31</td>\n",
       "      <td>0.049091</td>\n",
       "      <td>0.055879</td>\n",
       "      <td>-0.029516</td>\n",
       "      <td>0.049091</td>\n",
       "      <td>-0.106959</td>\n",
       "      <td>-0.105529</td>\n",
       "      <td>0.079050</td>\n",
       "      <td>-0.031240</td>\n",
       "      <td>...</td>\n",
       "      <td>0.412569</td>\n",
       "      <td>-0.001102</td>\n",
       "      <td>0.116263</td>\n",
       "      <td>-0.088064</td>\n",
       "      <td>-0.088407</td>\n",
       "      <td>-0.023680</td>\n",
       "      <td>0.017379</td>\n",
       "      <td>-0.087782</td>\n",
       "      <td>-0.057120</td>\n",
       "      <td>0.139631</td>\n",
       "    </tr>\n",
       "    <tr>\n",
       "      <th>3</th>\n",
       "      <td>1</td>\n",
       "      <td>2001/12/31</td>\n",
       "      <td>0.140035</td>\n",
       "      <td>0.155680</td>\n",
       "      <td>-0.051894</td>\n",
       "      <td>0.140035</td>\n",
       "      <td>-0.095178</td>\n",
       "      <td>-0.091304</td>\n",
       "      <td>0.114448</td>\n",
       "      <td>-0.030329</td>\n",
       "      <td>...</td>\n",
       "      <td>-0.072941</td>\n",
       "      <td>-0.001650</td>\n",
       "      <td>0.961059</td>\n",
       "      <td>-0.088064</td>\n",
       "      <td>-0.088407</td>\n",
       "      <td>-0.038564</td>\n",
       "      <td>0.686665</td>\n",
       "      <td>-0.109052</td>\n",
       "      <td>-0.104251</td>\n",
       "      <td>1.112457</td>\n",
       "    </tr>\n",
       "    <tr>\n",
       "      <th>4</th>\n",
       "      <td>1</td>\n",
       "      <td>2002/12/31</td>\n",
       "      <td>0.219307</td>\n",
       "      <td>0.241471</td>\n",
       "      <td>-0.049068</td>\n",
       "      <td>0.219307</td>\n",
       "      <td>-0.078742</td>\n",
       "      <td>-0.071431</td>\n",
       "      <td>0.192319</td>\n",
       "      <td>-0.020508</td>\n",
       "      <td>...</td>\n",
       "      <td>-0.120100</td>\n",
       "      <td>-0.001027</td>\n",
       "      <td>0.131014</td>\n",
       "      <td>-0.088064</td>\n",
       "      <td>-0.088407</td>\n",
       "      <td>-0.034298</td>\n",
       "      <td>0.373942</td>\n",
       "      <td>-0.080351</td>\n",
       "      <td>-0.082520</td>\n",
       "      <td>0.156617</td>\n",
       "    </tr>\n",
       "  </tbody>\n",
       "</table>\n",
       "<p>5 rows × 29 columns</p>\n",
       "</div>"
      ],
      "text/plain": [
       "   stkcd      accper  a001000000  a002000000  a003000000  a004000000  \\\n",
       "0      1  1998/12/31    0.001135    0.005961   -0.050913    0.001135   \n",
       "1      1  1999/12/31    0.012284    0.019473   -0.066531    0.012284   \n",
       "2      1  2000/12/31    0.049091    0.055879   -0.029516    0.049091   \n",
       "3      1  2001/12/31    0.140035    0.155680   -0.051894    0.140035   \n",
       "4      1  2002/12/31    0.219307    0.241471   -0.049068    0.219307   \n",
       "\n",
       "   b001100000  b001200000  b001302000  b001300000     ...      c003000000  \\\n",
       "0   -0.101356   -0.108131    0.008129    0.002082     ...       -0.091227   \n",
       "1   -0.106274   -0.108082    0.028062   -0.025321     ...       -0.174686   \n",
       "2   -0.106959   -0.105529    0.079050   -0.031240     ...        0.412569   \n",
       "3   -0.095178   -0.091304    0.114448   -0.030329     ...       -0.072941   \n",
       "4   -0.078742   -0.071431    0.192319   -0.020508     ...       -0.120100   \n",
       "\n",
       "   c004000000  c005000000  c005001000  c006000000  d000101000  d000100000  \\\n",
       "0   -0.000933   -0.019685   -0.088064   -0.088407    0.013131    0.053278   \n",
       "1   -0.000822    0.260917   -0.088064   -0.088407   -0.016732    0.175355   \n",
       "2   -0.001102    0.116263   -0.088064   -0.088407   -0.023680    0.017379   \n",
       "3   -0.001650    0.961059   -0.088064   -0.088407   -0.038564    0.686665   \n",
       "4   -0.001027    0.131014   -0.088064   -0.088407   -0.034298    0.373942   \n",
       "\n",
       "   d000204000  d000205000  d000200000  \n",
       "0   -0.080285   -0.081301   -0.016921  \n",
       "1    0.243399    0.109454    0.306207  \n",
       "2   -0.087782   -0.057120    0.139631  \n",
       "3   -0.109052   -0.104251    1.112457  \n",
       "4   -0.080351   -0.082520    0.156617  \n",
       "\n",
       "[5 rows x 29 columns]"
      ]
     },
     "execution_count": 77,
     "metadata": {},
     "output_type": "execute_result"
    }
   ],
   "source": [
    "df.head()"
   ]
  },
  {
   "cell_type": "code",
   "execution_count": null,
   "metadata": {
    "collapsed": true
   },
   "outputs": [],
   "source": []
  },
  {
   "cell_type": "code",
   "execution_count": 58,
   "metadata": {},
   "outputs": [
    {
     "data": {
      "text/plain": [
       "3808"
      ]
     },
     "execution_count": 58,
     "metadata": {},
     "output_type": "execute_result"
    }
   ],
   "source": [
    "stkcd=df['stkcd']\n",
    "stkcd=np.array(stkcd).tolist()\n",
    "stkcd=list(set(stkcd))\n",
    "len(stkcd)"
   ]
  },
  {
   "cell_type": "code",
   "execution_count": 59,
   "metadata": {
    "collapsed": true
   },
   "outputs": [],
   "source": [
    "firm=df.groupby('stkcd')"
   ]
  },
  {
   "cell_type": "code",
   "execution_count": 87,
   "metadata": {},
   "outputs": [],
   "source": [
    "trainX,trainY=[],[]\n",
    "testX,testY=[],[]\n",
    "input_length=5\n",
    "output_length=1\n",
    "for i,val in enumerate(stkcd):\n",
    "    f=firm.get_group(val)\n",
    "    f=f.drop(['stkcd','accper'],axis=1)\n",
    "    f=f.values\n",
    "    num=f.shape[0]-input_length-output_length\n",
    "    if (num>=0):\n",
    "        testX.append(f[-input_length-output_length:-output_length,:])\n",
    "        testY.append(f[-output_length:,10])\n",
    "        for j in range(num):\n",
    "            trainX.append(f[j:j+input_length,:])\n",
    "            trainY.append(f[j+input_length:j+input_length+output_length,10])\n",
    "trainX=np.array(trainX)\n",
    "trainY=np.array(trainY)\n",
    "testX=np.array(testX)\n",
    "testY=np.array(testY)"
   ]
  },
  {
   "cell_type": "code",
   "execution_count": 88,
   "metadata": {},
   "outputs": [
    {
     "name": "stdout",
     "output_type": "stream",
     "text": [
      "(23448, 5, 27)\n",
      "(23448, 1)\n",
      "(2687, 5, 27)\n",
      "(2687, 1)\n"
     ]
    }
   ],
   "source": [
    "print(trainX.shape)\n",
    "print(trainY.shape)\n",
    "print(testX.shape)\n",
    "print(testY.shape)"
   ]
  },
  {
   "cell_type": "code",
   "execution_count": 19,
   "metadata": {
    "collapsed": true
   },
   "outputs": [],
   "source": [
    "dataX,dataY=[],[]\n",
    "length=[]\n",
    "input_length=5\n",
    "output_length=1\n",
    "for i,val in enumerate(stkcd):\n",
    "    f=firm.get_group(val)\n",
    "    f=f.drop(['stkcd','accper'],axis=1)\n",
    "    f=f.values\n",
    "    length.append(f.shape[0])\n",
    "    num=f.shape[0] - input_length-output_length\n",
    "    if num>=0:\n",
    "        for j in range(num+1):\n",
    "            dataX.append(f[j:j+input_length,:])\n",
    "            dataY.append(np.hstack((f[j+input_length:j+input_length+output_length,4].reshape(3,1),\n",
    "                                f[j+input_length:j+input_length+output_length,13].reshape(3,1))))\n",
    "dataX=np.array(dataX)\n",
    "dataY=np.array(dataY)"
   ]
  },
  {
   "cell_type": "code",
   "execution_count": 17,
   "metadata": {},
   "outputs": [
    {
     "data": {
      "text/plain": [
       "(23253, 5, 35)"
      ]
     },
     "execution_count": 17,
     "metadata": {},
     "output_type": "execute_result"
    }
   ],
   "source": [
    "dataX.shape"
   ]
  },
  {
   "cell_type": "code",
   "execution_count": 20,
   "metadata": {},
   "outputs": [
    {
     "data": {
      "text/plain": [
       "(23253, 3, 2)"
      ]
     },
     "execution_count": 20,
     "metadata": {},
     "output_type": "execute_result"
    }
   ],
   "source": [
    "dataY.shape"
   ]
  },
  {
   "cell_type": "code",
   "execution_count": 30,
   "metadata": {},
   "outputs": [
    {
     "data": {
      "text/plain": [
       "(array([784., 375., 764., 358., 104., 244., 335., 506., 270.,  69.]),\n",
       " array([ 1. ,  3.8,  6.6,  9.4, 12.2, 15. , 17.8, 20.6, 23.4, 26.2, 29. ]),\n",
       " <a list of 10 Patch objects>)"
      ]
     },
     "execution_count": 30,
     "metadata": {},
     "output_type": "execute_result"
    },
    {
     "data": {
      "image/png": "[encoded data removed]",
      "text/plain": [
       "<matplotlib.figure.Figure at 0x197eccda940>"
      ]
     },
     "metadata": {},
     "output_type": "display_data"
    }
   ],
   "source": [
    "plt.hist(length)"
   ]
  },
  {
   "cell_type": "code",
   "execution_count": 14,
   "metadata": {
    "collapsed": true
   },
   "outputs": [],
   "source": [
    "firm=df.groupby('stkcd')"
   ]
  },
  {
   "cell_type": "code",
   "execution_count": 15,
   "metadata": {},
   "outputs": [
    {
     "data": {
      "text/html": [
       "<div>\n",
       "<style>\n",
       "    .dataframe thead tr:only-child th {\n",
       "        text-align: right;\n",
       "    }\n",
       "\n",
       "    .dataframe thead th {\n",
       "        text-align: left;\n",
       "    }\n",
       "\n",
       "    .dataframe tbody tr th {\n",
       "        vertical-align: top;\n",
       "    }\n",
       "</style>\n",
       "<table border=\"1\" class=\"dataframe\">\n",
       "  <thead>\n",
       "    <tr style=\"text-align: right;\">\n",
       "      <th></th>\n",
       "      <th>stkcd</th>\n",
       "      <th>accper</th>\n",
       "      <th>a001000000</th>\n",
       "      <th>a002000000</th>\n",
       "      <th>a003000000</th>\n",
       "      <th>a004000000</th>\n",
       "      <th>b001100000</th>\n",
       "      <th>b001200000</th>\n",
       "      <th>b001301000</th>\n",
       "      <th>b001302000</th>\n",
       "      <th>...</th>\n",
       "      <th>c005000000</th>\n",
       "      <th>c005001000</th>\n",
       "      <th>c006000000</th>\n",
       "      <th>d000101000</th>\n",
       "      <th>d000100000</th>\n",
       "      <th>d000204000</th>\n",
       "      <th>d000205000</th>\n",
       "      <th>d000206000</th>\n",
       "      <th>d000207000</th>\n",
       "      <th>d000200000</th>\n",
       "    </tr>\n",
       "  </thead>\n",
       "  <tbody>\n",
       "    <tr>\n",
       "      <th>0</th>\n",
       "      <td>1</td>\n",
       "      <td>1990/12/31</td>\n",
       "      <td>2.919190e+09</td>\n",
       "      <td>5.628000e+07</td>\n",
       "      <td>2.365100e+08</td>\n",
       "      <td>2.919190e+09</td>\n",
       "      <td>0.0</td>\n",
       "      <td>0.0</td>\n",
       "      <td>0.0</td>\n",
       "      <td>0.00</td>\n",
       "      <td>...</td>\n",
       "      <td>0.0</td>\n",
       "      <td>0.0</td>\n",
       "      <td>0.0</td>\n",
       "      <td>0.0</td>\n",
       "      <td>0.0</td>\n",
       "      <td>0.0</td>\n",
       "      <td>0.0</td>\n",
       "      <td>0.0</td>\n",
       "      <td>0.0</td>\n",
       "      <td>0.0</td>\n",
       "    </tr>\n",
       "    <tr>\n",
       "      <th>1</th>\n",
       "      <td>1</td>\n",
       "      <td>1991/12/31</td>\n",
       "      <td>4.354460e+09</td>\n",
       "      <td>7.723000e+07</td>\n",
       "      <td>5.779600e+08</td>\n",
       "      <td>4.354460e+09</td>\n",
       "      <td>334690000.0</td>\n",
       "      <td>188230000.0</td>\n",
       "      <td>0.0</td>\n",
       "      <td>3720000.00</td>\n",
       "      <td>...</td>\n",
       "      <td>0.0</td>\n",
       "      <td>0.0</td>\n",
       "      <td>0.0</td>\n",
       "      <td>0.0</td>\n",
       "      <td>0.0</td>\n",
       "      <td>0.0</td>\n",
       "      <td>0.0</td>\n",
       "      <td>0.0</td>\n",
       "      <td>0.0</td>\n",
       "      <td>0.0</td>\n",
       "    </tr>\n",
       "    <tr>\n",
       "      <th>2</th>\n",
       "      <td>1</td>\n",
       "      <td>1992/12/31</td>\n",
       "      <td>7.522847e+09</td>\n",
       "      <td>1.958932e+08</td>\n",
       "      <td>5.456622e+08</td>\n",
       "      <td>7.522847e+09</td>\n",
       "      <td>475510800.0</td>\n",
       "      <td>254612800.0</td>\n",
       "      <td>0.0</td>\n",
       "      <td>4845000.00</td>\n",
       "      <td>...</td>\n",
       "      <td>0.0</td>\n",
       "      <td>0.0</td>\n",
       "      <td>0.0</td>\n",
       "      <td>0.0</td>\n",
       "      <td>0.0</td>\n",
       "      <td>0.0</td>\n",
       "      <td>0.0</td>\n",
       "      <td>0.0</td>\n",
       "      <td>0.0</td>\n",
       "      <td>0.0</td>\n",
       "    </tr>\n",
       "    <tr>\n",
       "      <th>3</th>\n",
       "      <td>1</td>\n",
       "      <td>1993/12/31</td>\n",
       "      <td>9.337871e+09</td>\n",
       "      <td>8.148741e+09</td>\n",
       "      <td>1.189130e+09</td>\n",
       "      <td>9.337871e+09</td>\n",
       "      <td>407870596.5</td>\n",
       "      <td>114621987.4</td>\n",
       "      <td>0.0</td>\n",
       "      <td>25120959.95</td>\n",
       "      <td>...</td>\n",
       "      <td>0.0</td>\n",
       "      <td>0.0</td>\n",
       "      <td>0.0</td>\n",
       "      <td>0.0</td>\n",
       "      <td>0.0</td>\n",
       "      <td>0.0</td>\n",
       "      <td>0.0</td>\n",
       "      <td>0.0</td>\n",
       "      <td>0.0</td>\n",
       "      <td>0.0</td>\n",
       "    </tr>\n",
       "    <tr>\n",
       "      <th>4</th>\n",
       "      <td>1</td>\n",
       "      <td>1994/12/31</td>\n",
       "      <td>1.548841e+10</td>\n",
       "      <td>1.382858e+10</td>\n",
       "      <td>1.659833e+09</td>\n",
       "      <td>1.548841e+10</td>\n",
       "      <td>662338768.2</td>\n",
       "      <td>323169773.6</td>\n",
       "      <td>0.0</td>\n",
       "      <td>63115202.60</td>\n",
       "      <td>...</td>\n",
       "      <td>0.0</td>\n",
       "      <td>0.0</td>\n",
       "      <td>0.0</td>\n",
       "      <td>0.0</td>\n",
       "      <td>0.0</td>\n",
       "      <td>0.0</td>\n",
       "      <td>0.0</td>\n",
       "      <td>0.0</td>\n",
       "      <td>0.0</td>\n",
       "      <td>0.0</td>\n",
       "    </tr>\n",
       "  </tbody>\n",
       "</table>\n",
       "<p>5 rows × 37 columns</p>\n",
       "</div>"
      ],
      "text/plain": [
       "   stkcd      accper    a001000000    a002000000    a003000000    a004000000  \\\n",
       "0      1  1990/12/31  2.919190e+09  5.628000e+07  2.365100e+08  2.919190e+09   \n",
       "1      1  1991/12/31  4.354460e+09  7.723000e+07  5.779600e+08  4.354460e+09   \n",
       "2      1  1992/12/31  7.522847e+09  1.958932e+08  5.456622e+08  7.522847e+09   \n",
       "3      1  1993/12/31  9.337871e+09  8.148741e+09  1.189130e+09  9.337871e+09   \n",
       "4      1  1994/12/31  1.548841e+10  1.382858e+10  1.659833e+09  1.548841e+10   \n",
       "\n",
       "    b001100000   b001200000  b001301000   b001302000     ...      c005000000  \\\n",
       "0          0.0          0.0         0.0         0.00     ...             0.0   \n",
       "1  334690000.0  188230000.0         0.0   3720000.00     ...             0.0   \n",
       "2  475510800.0  254612800.0         0.0   4845000.00     ...             0.0   \n",
       "3  407870596.5  114621987.4         0.0  25120959.95     ...             0.0   \n",
       "4  662338768.2  323169773.6         0.0  63115202.60     ...             0.0   \n",
       "\n",
       "   c005001000  c006000000  d000101000  d000100000  d000204000  d000205000  \\\n",
       "0         0.0         0.0         0.0         0.0         0.0         0.0   \n",
       "1         0.0         0.0         0.0         0.0         0.0         0.0   \n",
       "2         0.0         0.0         0.0         0.0         0.0         0.0   \n",
       "3         0.0         0.0         0.0         0.0         0.0         0.0   \n",
       "4         0.0         0.0         0.0         0.0         0.0         0.0   \n",
       "\n",
       "   d000206000  d000207000  d000200000  \n",
       "0         0.0         0.0         0.0  \n",
       "1         0.0         0.0         0.0  \n",
       "2         0.0         0.0         0.0  \n",
       "3         0.0         0.0         0.0  \n",
       "4         0.0         0.0         0.0  \n",
       "\n",
       "[5 rows x 37 columns]"
      ]
     },
     "execution_count": 15,
     "metadata": {},
     "output_type": "execute_result"
    }
   ],
   "source": [
    "f=firm.get_group(1)\n",
    "f.head()"
   ]
  },
  {
   "cell_type": "code",
   "execution_count": 16,
   "metadata": {
    "scrolled": true
   },
   "outputs": [
    {
     "data": {
      "text/html": [
       "<div>\n",
       "<style>\n",
       "    .dataframe thead tr:only-child th {\n",
       "        text-align: right;\n",
       "    }\n",
       "\n",
       "    .dataframe thead th {\n",
       "        text-align: left;\n",
       "    }\n",
       "\n",
       "    .dataframe tbody tr th {\n",
       "        vertical-align: top;\n",
       "    }\n",
       "</style>\n",
       "<table border=\"1\" class=\"dataframe\">\n",
       "  <thead>\n",
       "    <tr style=\"text-align: right;\">\n",
       "      <th></th>\n",
       "      <th>a001000000</th>\n",
       "      <th>a002000000</th>\n",
       "      <th>a003000000</th>\n",
       "      <th>a004000000</th>\n",
       "      <th>b001100000</th>\n",
       "      <th>b001200000</th>\n",
       "      <th>b001301000</th>\n",
       "      <th>b001302000</th>\n",
       "      <th>b001303000</th>\n",
       "      <th>b001304000</th>\n",
       "      <th>...</th>\n",
       "      <th>c005000000</th>\n",
       "      <th>c005001000</th>\n",
       "      <th>c006000000</th>\n",
       "      <th>d000101000</th>\n",
       "      <th>d000100000</th>\n",
       "      <th>d000204000</th>\n",
       "      <th>d000205000</th>\n",
       "      <th>d000206000</th>\n",
       "      <th>d000207000</th>\n",
       "      <th>d000200000</th>\n",
       "    </tr>\n",
       "  </thead>\n",
       "  <tbody>\n",
       "    <tr>\n",
       "      <th>0</th>\n",
       "      <td>2.919190e+09</td>\n",
       "      <td>5.628000e+07</td>\n",
       "      <td>2.365100e+08</td>\n",
       "      <td>2.919190e+09</td>\n",
       "      <td>0.0</td>\n",
       "      <td>0.0</td>\n",
       "      <td>0.0</td>\n",
       "      <td>0.00</td>\n",
       "      <td>0.00</td>\n",
       "      <td>0.0</td>\n",
       "      <td>...</td>\n",
       "      <td>0.0</td>\n",
       "      <td>0.0</td>\n",
       "      <td>0.0</td>\n",
       "      <td>0.0</td>\n",
       "      <td>0.0</td>\n",
       "      <td>0.0</td>\n",
       "      <td>0.0</td>\n",
       "      <td>0.0</td>\n",
       "      <td>0.0</td>\n",
       "      <td>0.0</td>\n",
       "    </tr>\n",
       "    <tr>\n",
       "      <th>1</th>\n",
       "      <td>4.354460e+09</td>\n",
       "      <td>7.723000e+07</td>\n",
       "      <td>5.779600e+08</td>\n",
       "      <td>4.354460e+09</td>\n",
       "      <td>334690000.0</td>\n",
       "      <td>188230000.0</td>\n",
       "      <td>0.0</td>\n",
       "      <td>3720000.00</td>\n",
       "      <td>0.00</td>\n",
       "      <td>0.0</td>\n",
       "      <td>...</td>\n",
       "      <td>0.0</td>\n",
       "      <td>0.0</td>\n",
       "      <td>0.0</td>\n",
       "      <td>0.0</td>\n",
       "      <td>0.0</td>\n",
       "      <td>0.0</td>\n",
       "      <td>0.0</td>\n",
       "      <td>0.0</td>\n",
       "      <td>0.0</td>\n",
       "      <td>0.0</td>\n",
       "    </tr>\n",
       "    <tr>\n",
       "      <th>2</th>\n",
       "      <td>7.522847e+09</td>\n",
       "      <td>1.958932e+08</td>\n",
       "      <td>5.456622e+08</td>\n",
       "      <td>7.522847e+09</td>\n",
       "      <td>475510800.0</td>\n",
       "      <td>254612800.0</td>\n",
       "      <td>0.0</td>\n",
       "      <td>4845000.00</td>\n",
       "      <td>0.00</td>\n",
       "      <td>0.0</td>\n",
       "      <td>...</td>\n",
       "      <td>0.0</td>\n",
       "      <td>0.0</td>\n",
       "      <td>0.0</td>\n",
       "      <td>0.0</td>\n",
       "      <td>0.0</td>\n",
       "      <td>0.0</td>\n",
       "      <td>0.0</td>\n",
       "      <td>0.0</td>\n",
       "      <td>0.0</td>\n",
       "      <td>0.0</td>\n",
       "    </tr>\n",
       "    <tr>\n",
       "      <th>3</th>\n",
       "      <td>9.337871e+09</td>\n",
       "      <td>8.148741e+09</td>\n",
       "      <td>1.189130e+09</td>\n",
       "      <td>9.337871e+09</td>\n",
       "      <td>407870596.5</td>\n",
       "      <td>114621987.4</td>\n",
       "      <td>0.0</td>\n",
       "      <td>25120959.95</td>\n",
       "      <td>2092216.00</td>\n",
       "      <td>0.0</td>\n",
       "      <td>...</td>\n",
       "      <td>0.0</td>\n",
       "      <td>0.0</td>\n",
       "      <td>0.0</td>\n",
       "      <td>0.0</td>\n",
       "      <td>0.0</td>\n",
       "      <td>0.0</td>\n",
       "      <td>0.0</td>\n",
       "      <td>0.0</td>\n",
       "      <td>0.0</td>\n",
       "      <td>0.0</td>\n",
       "    </tr>\n",
       "    <tr>\n",
       "      <th>4</th>\n",
       "      <td>1.548841e+10</td>\n",
       "      <td>1.382858e+10</td>\n",
       "      <td>1.659833e+09</td>\n",
       "      <td>1.548841e+10</td>\n",
       "      <td>662338768.2</td>\n",
       "      <td>323169773.6</td>\n",
       "      <td>0.0</td>\n",
       "      <td>63115202.60</td>\n",
       "      <td>13689998.09</td>\n",
       "      <td>0.0</td>\n",
       "      <td>...</td>\n",
       "      <td>0.0</td>\n",
       "      <td>0.0</td>\n",
       "      <td>0.0</td>\n",
       "      <td>0.0</td>\n",
       "      <td>0.0</td>\n",
       "      <td>0.0</td>\n",
       "      <td>0.0</td>\n",
       "      <td>0.0</td>\n",
       "      <td>0.0</td>\n",
       "      <td>0.0</td>\n",
       "    </tr>\n",
       "  </tbody>\n",
       "</table>\n",
       "<p>5 rows × 35 columns</p>\n",
       "</div>"
      ],
      "text/plain": [
       "     a001000000    a002000000    a003000000    a004000000   b001100000  \\\n",
       "0  2.919190e+09  5.628000e+07  2.365100e+08  2.919190e+09          0.0   \n",
       "1  4.354460e+09  7.723000e+07  5.779600e+08  4.354460e+09  334690000.0   \n",
       "2  7.522847e+09  1.958932e+08  5.456622e+08  7.522847e+09  475510800.0   \n",
       "3  9.337871e+09  8.148741e+09  1.189130e+09  9.337871e+09  407870596.5   \n",
       "4  1.548841e+10  1.382858e+10  1.659833e+09  1.548841e+10  662338768.2   \n",
       "\n",
       "    b001200000  b001301000   b001302000   b001303000  b001304000     ...      \\\n",
       "0          0.0         0.0         0.00         0.00         0.0     ...       \n",
       "1  188230000.0         0.0   3720000.00         0.00         0.0     ...       \n",
       "2  254612800.0         0.0   4845000.00         0.00         0.0     ...       \n",
       "3  114621987.4         0.0  25120959.95   2092216.00         0.0     ...       \n",
       "4  323169773.6         0.0  63115202.60  13689998.09         0.0     ...       \n",
       "\n",
       "   c005000000  c005001000  c006000000  d000101000  d000100000  d000204000  \\\n",
       "0         0.0         0.0         0.0         0.0         0.0         0.0   \n",
       "1         0.0         0.0         0.0         0.0         0.0         0.0   \n",
       "2         0.0         0.0         0.0         0.0         0.0         0.0   \n",
       "3         0.0         0.0         0.0         0.0         0.0         0.0   \n",
       "4         0.0         0.0         0.0         0.0         0.0         0.0   \n",
       "\n",
       "   d000205000  d000206000  d000207000  d000200000  \n",
       "0         0.0         0.0         0.0         0.0  \n",
       "1         0.0         0.0         0.0         0.0  \n",
       "2         0.0         0.0         0.0         0.0  \n",
       "3         0.0         0.0         0.0         0.0  \n",
       "4         0.0         0.0         0.0         0.0  \n",
       "\n",
       "[5 rows x 35 columns]"
      ]
     },
     "execution_count": 16,
     "metadata": {},
     "output_type": "execute_result"
    }
   ],
   "source": [
    "f=f.drop(['stkcd','accper'],axis=1)\n",
    "f.head()"
   ]
  },
  {
   "cell_type": "code",
   "execution_count": 17,
   "metadata": {
    "collapsed": true
   },
   "outputs": [],
   "source": [
    "f=f.values"
   ]
  },
  {
   "cell_type": "code",
   "execution_count": 18,
   "metadata": {},
   "outputs": [
    {
     "name": "stdout",
     "output_type": "stream",
     "text": [
      "(29, 35)\n"
     ]
    }
   ],
   "source": [
    "print(f.shape)"
   ]
  },
  {
   "cell_type": "code",
   "execution_count": 20,
   "metadata": {},
   "outputs": [
    {
     "data": {
      "text/plain": [
       "(4, 35)"
      ]
     },
     "execution_count": 20,
     "metadata": {},
     "output_type": "execute_result"
    }
   ],
   "source": [
    "f[1:5,:].shape"
   ]
  }
 ],
 "metadata": {
  "kernelspec": {
   "display_name": "Python 3",
   "language": "python",
   "name": "python3"
  },
  "language_info": {
   "codemirror_mode": {
    "name": "ipython",
    "version": 3
   },
   "file_extension": ".py",
   "mimetype": "text/x-python",
   "name": "python",
   "nbconvert_exporter": "python",
   "pygments_lexer": "ipython3",
   "version": "3.6.2"
  }
 },
 "nbformat": 4,
 "nbformat_minor": 2
}
